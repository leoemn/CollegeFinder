{
  "nbformat": 4,
  "nbformat_minor": 0,
  "metadata": {
    "colab": {
      "name": "Project6(Bulk File Renamer).ipynb",
      "provenance": [],
      "collapsed_sections": []
    },
    "kernelspec": {
      "name": "python3",
      "display_name": "Python 3"
    },
    "language_info": {
      "name": "python"
    }
  },
  "cells": [
    {
      "cell_type": "code",
      "execution_count": 2,
      "metadata": {
        "id": "bBNEMeRl9hvK"
      },
      "outputs": [],
      "source": [
        "import os\n",
        "\n",
        "def renamer():\n",
        "  i = 0\n",
        "  path = \"G:\\College Finder\\img\"\n",
        "  for filename in os.listdir(path):\n",
        "      names = f\"picture {1}.jpeg\"\n",
        "      src = path + filename\n",
        "      dest = path + names\n",
        "\n",
        "      os.rename(src,dest)\n",
        "      i = i+1\n",
        "\n",
        "  if __name__ == \"__main__\":\n",
        "    renamer()"
      ]
    },
    {
      "cell_type": "code",
      "source": [
        ""
      ],
      "metadata": {
        "id": "hEC7yISfJFqM"
      },
      "execution_count": null,
      "outputs": []
    }
  ]
}