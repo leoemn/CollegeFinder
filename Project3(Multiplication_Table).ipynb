{
  "nbformat": 4,
  "nbformat_minor": 0,
  "metadata": {
    "colab": {
      "name": "Project3(Multiplication Table).ipynb",
      "provenance": []
    },
    "kernelspec": {
      "name": "python3",
      "display_name": "Python 3"
    },
    "language_info": {
      "name": "python"
    }
  },
  "cells": [
    {
      "cell_type": "code",
      "execution_count": 8,
      "metadata": {
        "colab": {
          "base_uri": "https://localhost:8080/"
        },
        "id": "7em2ZMqaRKkl",
        "outputId": "476c2e76-2285-42d0-d690-cb994ba8e04d"
      },
      "outputs": [
        {
          "output_type": "stream",
          "name": "stdout",
          "text": [
            "Enter a number to print Multiplication Table of that Numebr8000\n",
            "8000  *  1 = 8000\n",
            "8000  *  2 = 16000\n",
            "8000  *  3 = 24000\n",
            "8000  *  4 = 32000\n",
            "8000  *  5 = 40000\n",
            "8000  *  6 = 48000\n",
            "8000  *  7 = 56000\n",
            "8000  *  8 = 64000\n",
            "8000  *  9 = 72000\n",
            "8000  *  10 = 80000\n",
            "8000  *  11 = 88000\n",
            "8000  *  12 = 96000\n"
          ]
        }
      ],
      "source": [
        "num = int(input('Enter a number to print Multiplication Table of that Numebr'))\n",
        "i = 1\n",
        "while (i<=12):\n",
        "  print(num, ' * ', i, '=', num*i)\n",
        "  i = i+1"
      ]
    },
    {
      "cell_type": "code",
      "source": [
        ""
      ],
      "metadata": {
        "id": "EB1SaPLZR9HD"
      },
      "execution_count": null,
      "outputs": []
    }
  ]
}