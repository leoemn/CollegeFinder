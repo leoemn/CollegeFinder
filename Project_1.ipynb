{
  "nbformat": 4,
  "nbformat_minor": 0,
  "metadata": {
    "colab": {
      "name": "Project 1.ipynb",
      "provenance": [],
      "collapsed_sections": []
    },
    "kernelspec": {
      "name": "python3",
      "display_name": "Python 3"
    },
    "language_info": {
      "name": "python"
    }
  },
  "cells": [
    {
      "cell_type": "markdown",
      "source": [
        "**Enter Students Detail**"
      ],
      "metadata": {
        "id": "ERT08cGEEgvJ"
      }
    },
    {
      "cell_type": "code",
      "source": [
        "name = input('name: ')\n",
        "std = int(input('Std: '))\n",
        "div = input('Div: ')\n",
        "rollno = int(input('Roll No. : '))\n"
      ],
      "metadata": {
        "colab": {
          "base_uri": "https://localhost:8080/"
        },
        "id": "FgxSle9PEtk3",
        "outputId": "78f2f120-2ec4-4ffd-8671-72adcadf9175"
      },
      "execution_count": 5,
      "outputs": [
        {
          "name": "stdout",
          "output_type": "stream",
          "text": [
            "name: sagar joshi\n",
            "Std: 12\n",
            "Div: a\n",
            "Roll No. : 44\n"
          ]
        }
      ]
    },
    {
      "cell_type": "markdown",
      "source": [
        "**Enter Studnets Marks**"
      ],
      "metadata": {
        "id": "JDPWO9SLFk97"
      }
    },
    {
      "cell_type": "code",
      "source": [
        "maths = int(input('Maths: '))\n",
        "science = int(input('Science: '))\n",
        "history = int(input('History: '))\n",
        "perc = (maths+science+history)/3\n",
        "print(name, 'has received', perc)"
      ],
      "metadata": {
        "colab": {
          "base_uri": "https://localhost:8080/"
        },
        "id": "VUoAQCxCEyR-",
        "outputId": "41577ecf-47f5-4297-b744-bbed2df6d3d1"
      },
      "execution_count": 10,
      "outputs": [
        {
          "output_type": "stream",
          "name": "stdout",
          "text": [
            "Maths: 50\n",
            "Science: 53\n",
            "History: 25\n",
            "sagar joshi has received 42.666666666666664\n"
          ]
        }
      ]
    }
  ]
}