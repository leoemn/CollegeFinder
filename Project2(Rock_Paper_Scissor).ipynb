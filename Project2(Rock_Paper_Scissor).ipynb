{
  "nbformat": 4,
  "nbformat_minor": 0,
  "metadata": {
    "colab": {
      "name": "Project2(Rock Paper Scissor).ipynb",
      "provenance": []
    },
    "kernelspec": {
      "name": "python3",
      "display_name": "Python 3"
    },
    "language_info": {
      "name": "python"
    }
  },
  "cells": [
    {
      "cell_type": "code",
      "source": [
        "player1 =  int(input('Player1, Enter a number to Choose any of the below: \\n1. Rock \\n2. Paper \\n3. Scissor \\n '))\n",
        "player2 =  int(input('Player2, Enter a number to Choose any of the below: \\n1. Rock \\n2. Paper \\n3. Scissor \\n '))\n"
      ],
      "metadata": {
        "colab": {
          "base_uri": "https://localhost:8080/"
        },
        "id": "JxXED4f4-Ue9",
        "outputId": "b1ec91c7-dafa-44e4-f119-013ac87ec1a3"
      },
      "execution_count": null,
      "outputs": [
        {
          "name": "stdout",
          "output_type": "stream",
          "text": [
            "Player1, Enter a number to Choose any of the below: \n",
            "1. Rock \n",
            "2. Paper \n",
            "3. Scissor \n",
            " 2\n",
            "Player2, Enter a number to Choose any of the below: \n",
            "1. Rock \n",
            "2. Paper \n",
            "3. Scissor \n",
            " 1\n"
          ]
        }
      ]
    },
    {
      "cell_type": "code",
      "source": [
        "\n",
        "if(player1 == 1) and (player2 == 2):\n",
        "    print('Player1 chose Rock, Player2 chose Paper')\n",
        "    print('Winner:Player2')\n",
        "elif(player1 == 1) and (player2 == 3):\n",
        "    print('Player1 chose Rock, Player2 chose Scissor')\n",
        "    print('Winner:Player1')\n",
        "\n",
        "elif(player1 == 2) and (player2 == 1):\n",
        "    print('Player1 chose Paper, Player2 chose Rock')\n",
        "    print('Winner:Player1')\n",
        "elif(player1 == 2) and (player2 == 3):\n",
        "    print('Player1 chose Paper, Player2 chose Scissor')\n",
        "    print('Winner:Player2')\n",
        "\n",
        "elif(player1 == 3) and (player2 == 1):\n",
        "    print('Player1 chose Scissor, Player2 chose Rock')\n",
        "    print('Winner:Player2')\n",
        "elif(player1 == 3) and (player2 == 2):\n",
        "    print('Player1 chose Scissor, Player2 chose Paper')\n",
        "    print('Winner:Player1')\n",
        "\n",
        "else:\n",
        "  print('TIED\\ Play Again')\n"
      ],
      "metadata": {
        "id": "4xj0YRv4-nzT",
        "colab": {
          "base_uri": "https://localhost:8080/"
        },
        "outputId": "49ff89a8-3500-4fa8-c86f-ecab4628c7bc"
      },
      "execution_count": 7,
      "outputs": [
        {
          "output_type": "stream",
          "name": "stdout",
          "text": [
            "Player1 chose Paper, Player2 chose Rock\n",
            "Winner:Player1\n"
          ]
        }
      ]
    },
    {
      "cell_type": "code",
      "source": [
        ""
      ],
      "metadata": {
        "id": "sLfzciq6P2pU"
      },
      "execution_count": null,
      "outputs": []
    }
  ]
}